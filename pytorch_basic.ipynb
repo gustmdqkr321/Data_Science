{
  "nbformat": 4,
  "nbformat_minor": 0,
  "metadata": {
    "colab": {
      "provenance": []
    },
    "kernelspec": {
      "name": "python3",
      "display_name": "Python 3"
    },
    "language_info": {
      "name": "python"
    }
  },
  "cells": [
    {
      "cell_type": "code",
      "source": [
        "import torch"
      ],
      "metadata": {
        "id": "Qr_N3ahQSeh4"
      },
      "execution_count": 60,
      "outputs": []
    },
    {
      "cell_type": "code",
      "source": [
        "x = torch.tensor([[1,2,3], [4,5,6], [7,8,9]]) # 자료구조 tensor\n",
        "y = torch.FloatTensor([[1,2,3], [4,5,6], [7,8,9]])\n",
        "print(\"x =\", x)\n",
        "print(\"y =\", y)"
      ],
      "metadata": {
        "colab": {
          "base_uri": "https://localhost:8080/"
        },
        "id": "DtsxqhlK3TUT",
        "outputId": "2fe76b8d-f045-42bc-daa7-8ca0d7bc9b00"
      },
      "execution_count": null,
      "outputs": [
        {
          "output_type": "stream",
          "name": "stdout",
          "text": [
            "x = tensor([[1, 2, 3],\n",
            "        [4, 5, 6],\n",
            "        [7, 8, 9]])\n",
            "y = tensor([[1., 2., 3.],\n",
            "        [4., 5., 6.],\n",
            "        [7., 8., 9.]])\n"
          ]
        }
      ]
    },
    {
      "cell_type": "code",
      "source": [
        "print(\"size : \", x.size()) # 크기와 차원 확인\n",
        "print(\"shape:\", x.shape)\n",
        "print(\"차원(랭크) : \", x.ndimension())"
      ],
      "metadata": {
        "colab": {
          "base_uri": "https://localhost:8080/"
        },
        "id": "BIMrfpTz67EA",
        "outputId": "9abf3a79-a063-4191-e48b-84bc153c690c"
      },
      "execution_count": null,
      "outputs": [
        {
          "output_type": "stream",
          "name": "stdout",
          "text": [
            "size :  torch.Size([3, 3])\n",
            "shape: torch.Size([3, 3])\n",
            "차원(랭크) :  2\n"
          ]
        }
      ]
    },
    {
      "cell_type": "code",
      "source": [
        "x0 = torch.unsqueeze(x, 0) # 모양 변경, x에 0번째 차원 추가\n",
        "x1 = torch.unsqueeze(x, 1)\n",
        "x2 = torch.unsqueeze(x, 2)\n",
        "print(\"x0.shape : \", x0.shape)\n",
        "print(\"x1.shape : \", x1.shape)\n",
        "print(\"x2.shape : \", x2.shape)\n",
        "print(\"x0 = \", x0)\n",
        "print(\"x1 = \", x1)\n",
        "print(\"x2 = \", x2)"
      ],
      "metadata": {
        "colab": {
          "base_uri": "https://localhost:8080/"
        },
        "id": "R-nT92rs529v",
        "outputId": "52100c15-e948-4b15-ae01-114c801a6cae"
      },
      "execution_count": null,
      "outputs": [
        {
          "output_type": "stream",
          "name": "stdout",
          "text": [
            "x0.shape :  torch.Size([1, 3, 3])\n",
            "x1.shape :  torch.Size([3, 1, 3])\n",
            "x2.shape :  torch.Size([3, 3, 1])\n",
            "x0 =  tensor([[[1, 2, 3],\n",
            "         [4, 5, 6],\n",
            "         [7, 8, 9]]])\n",
            "x1 =  tensor([[[1, 2, 3]],\n",
            "\n",
            "        [[4, 5, 6]],\n",
            "\n",
            "        [[7, 8, 9]]])\n",
            "x2 =  tensor([[[1],\n",
            "         [2],\n",
            "         [3]],\n",
            "\n",
            "        [[4],\n",
            "         [5],\n",
            "         [6]],\n",
            "\n",
            "        [[7],\n",
            "         [8],\n",
            "         [9]]])\n"
          ]
        }
      ]
    },
    {
      "cell_type": "code",
      "source": [
        "x3 = torch.squeeze(torch.squeeze(x0)) # squeeze(x): 텐서 x에서 크기가 1인 차원 제거\n",
        "print(\"x3 =\", x3)\n",
        "print(\"x3.shape =\", x3.shape)"
      ],
      "metadata": {
        "colab": {
          "base_uri": "https://localhost:8080/"
        },
        "id": "ee56jjiG-rkp",
        "outputId": "7d73ac58-dec5-4869-9d25-5a434e0136d8"
      },
      "execution_count": null,
      "outputs": [
        {
          "output_type": "stream",
          "name": "stdout",
          "text": [
            "x3 = tensor([[1, 2, 3],\n",
            "        [4, 5, 6],\n",
            "        [7, 8, 9]])\n",
            "x3.shape = torch.Size([3, 3])\n"
          ]
        }
      ]
    },
    {
      "cell_type": "code",
      "source": [
        "x4 = x.view(9) # 텐서 모양 변경 view(x) : x의 모양으로 변환\n",
        "x5 = x.view(1,3,3)\n",
        "print(\"x4 =\", x4)\n",
        "print(\"x5  \", x5)"
      ],
      "metadata": {
        "colab": {
          "base_uri": "https://localhost:8080/"
        },
        "id": "oxrVu2-G_MAP",
        "outputId": "54cc6c7c-2d88-431d-cd26-7a0da47df0e0"
      },
      "execution_count": null,
      "outputs": [
        {
          "output_type": "stream",
          "name": "stdout",
          "text": [
            "x4 = tensor([1, 2, 3, 4, 5, 6, 7, 8, 9])\n",
            "x5   tensor([[[1, 2, 3],\n",
            "         [4, 5, 6],\n",
            "         [7, 8, 9]]])\n"
          ]
        }
      ]
    },
    {
      "cell_type": "code",
      "source": [
        "x = torch.FloatTensor([[1,2], [3,4], [5,6]]) # xw + b size = 3,2\n",
        "w = torch.randn(1,2, dtype=torch.float) # 텐서 크기 설정\n",
        "b = torch.randn(3,1, dtype=torch.float)\n",
        "\n",
        "result = torch.mm(x, torch.t(w)) + b\n",
        "print(result)"
      ],
      "metadata": {
        "colab": {
          "base_uri": "https://localhost:8080/"
        },
        "id": "dFA0bSBmW5SD",
        "outputId": "103c1b0e-0143-4b15-8815-bc2760384d96"
      },
      "execution_count": null,
      "outputs": [
        {
          "output_type": "stream",
          "name": "stdout",
          "text": [
            "tensor([[ 0.3151],\n",
            "        [-1.6899],\n",
            "        [-1.8695]])\n"
          ]
        }
      ]
    },
    {
      "cell_type": "code",
      "source": [
        "w = torch.tensor(1.0, requires_grad=True) # w가 1일때\n",
        "# 기울기 requires_grad값이 설정된 텐서는 자동으로 기울기를 계산함\n",
        "a = w*3\n",
        "l = a**2\n",
        "l.backward()\n",
        "print('l을 w로 미분한 값', w.grad)"
      ],
      "metadata": {
        "colab": {
          "base_uri": "https://localhost:8080/"
        },
        "id": "sLopBGvEYhO_",
        "outputId": "dde906cf-358a-4224-f120-cba91eea959f"
      },
      "execution_count": null,
      "outputs": [
        {
          "output_type": "stream",
          "name": "stdout",
          "text": [
            "l을 w로 미분한 값 tensor(18.)\n"
          ]
        }
      ]
    },
    {
      "cell_type": "code",
      "source": [
        "x_train = torch.FloatTensor([[1,2], [3,2], [3,7], [1,1], [1,0]])\n",
        "y_train = torch.FloatTensor([[4], [8], [23], [1], [-2]])\n",
        "# y = 2x1 + 3x2 - 4"
      ],
      "metadata": {
        "id": "R021dx6Edt0L"
      },
      "execution_count": 61,
      "outputs": []
    },
    {
      "cell_type": "code",
      "source": [
        "w = torch.rand(2,1) # w,b 초기화\n",
        "b = torch.rand(1,1)\n",
        "lr = 0.01 # learing rate"
      ],
      "metadata": {
        "id": "iMPM4TIzcYQ_"
      },
      "execution_count": 62,
      "outputs": []
    },
    {
      "cell_type": "code",
      "source": [
        "for epoch in range(3001): # 반복횟수\n",
        "  w.requires_grad_(True)  # w,b의 기울기 구하기 설정\n",
        "  b.requires_grad_(True)"
      ],
      "metadata": {
        "id": "BziSKBjneUH5"
      },
      "execution_count": 71,
      "outputs": []
    },
    {
      "cell_type": "code",
      "source": [
        "hypothesis = torch.mm(x_train, w) + b\n",
        "cost = torch.mean((hypothesis - y_train) ** 2) # mean = 평균 모든 오차에 대해서 계산\n",
        "# 루트는 안해도 무방해서 안한듯함"
      ],
      "metadata": {
        "id": "YLqua0wLei5Y"
      },
      "execution_count": 72,
      "outputs": []
    },
    {
      "cell_type": "code",
      "source": [
        "cost.backward()\n",
        "with torch.no_grad() as grad : # 그래디언트 추적 x 불필요한 계산이기 떄문\n",
        "  w = w - lr * w.grad\n",
        "  b = b - lr * b.grad"
      ],
      "metadata": {
        "id": "8Crx91hEfk_H"
      },
      "execution_count": 73,
      "outputs": []
    },
    {
      "cell_type": "code",
      "source": [
        "if(epoch % 100 == 0): # 결과 출력\n",
        "  print( 'epoch: {}, cost: {:.6f}, w: {}, b: {}'\n",
        "    .format(epoch,cost.item(), w.squeeze(), b))"
      ],
      "metadata": {
        "colab": {
          "base_uri": "https://localhost:8080/"
        },
        "id": "oLcnKjX3hWWE",
        "outputId": "a0b6ec44-fe75-4c09-c2c0-4e3436b38951"
      },
      "execution_count": 74,
      "outputs": [
        {
          "output_type": "stream",
          "name": "stdout",
          "text": [
            "epoch: 3000, cost: 47.789482, w: tensor([0.9311, 1.2051]), b: tensor([[0.9222]])\n"
          ]
        }
      ]
    }
  ]
}