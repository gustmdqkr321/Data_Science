{
  "cells": [
    {
      "cell_type": "code",
      "execution_count": 2,
      "metadata": {
        "id": "Qr_N3ahQSeh4"
      },
      "outputs": [
        {
          "ename": "ModuleNotFoundError",
          "evalue": "No module named 'torch'",
          "output_type": "error",
          "traceback": [
            "\u001b[1;31m---------------------------------------------------------------------------\u001b[0m",
            "\u001b[1;31mModuleNotFoundError\u001b[0m                       Traceback (most recent call last)",
            "\u001b[1;32mc:\\Users\\82104\\Data_Science\\pytorch_basic.ipynb Cell 1\u001b[0m line \u001b[0;36m1\n\u001b[1;32m----> <a href='vscode-notebook-cell:/c%3A/Users/82104/Data_Science/pytorch_basic.ipynb#W0sZmlsZQ%3D%3D?line=0'>1</a>\u001b[0m \u001b[39mimport\u001b[39;00m \u001b[39mtorch\u001b[39;00m\n",
            "\u001b[1;31mModuleNotFoundError\u001b[0m: No module named 'torch'"
          ]
        }
      ],
      "source": [
        "import torch"
      ]
    },
    {
      "cell_type": "code",
      "execution_count": null,
      "metadata": {
        "colab": {
          "base_uri": "https://localhost:8080/"
        },
        "id": "DtsxqhlK3TUT",
        "outputId": "2fe76b8d-f045-42bc-daa7-8ca0d7bc9b00"
      },
      "outputs": [
        {
          "name": "stdout",
          "output_type": "stream",
          "text": [
            "x = tensor([[1, 2, 3],\n",
            "        [4, 5, 6],\n",
            "        [7, 8, 9]])\n",
            "y = tensor([[1., 2., 3.],\n",
            "        [4., 5., 6.],\n",
            "        [7., 8., 9.]])\n"
          ]
        }
      ],
      "source": [
        "x = torch.tensor([[1,2,3], [4,5,6], [7,8,9]]) # 자료구조 tensor\n",
        "y = torch.FloatTensor([[1,2,3], [4,5,6], [7,8,9]])\n",
        "print(\"x =\", x)\n",
        "print(\"y =\", y)"
      ]
    },
    {
      "cell_type": "code",
      "execution_count": null,
      "metadata": {
        "colab": {
          "base_uri": "https://localhost:8080/"
        },
        "id": "BIMrfpTz67EA",
        "outputId": "9abf3a79-a063-4191-e48b-84bc153c690c"
      },
      "outputs": [
        {
          "name": "stdout",
          "output_type": "stream",
          "text": [
            "size :  torch.Size([3, 3])\n",
            "shape: torch.Size([3, 3])\n",
            "차원(랭크) :  2\n"
          ]
        }
      ],
      "source": [
        "print(\"size : \", x.size()) # 크기와 차원 확인\n",
        "print(\"shape:\", x.shape)\n",
        "print(\"차원(랭크) : \", x.ndimension())"
      ]
    },
    {
      "cell_type": "code",
      "execution_count": null,
      "metadata": {
        "colab": {
          "base_uri": "https://localhost:8080/"
        },
        "id": "R-nT92rs529v",
        "outputId": "52100c15-e948-4b15-ae01-114c801a6cae"
      },
      "outputs": [
        {
          "name": "stdout",
          "output_type": "stream",
          "text": [
            "x0.shape :  torch.Size([1, 3, 3])\n",
            "x1.shape :  torch.Size([3, 1, 3])\n",
            "x2.shape :  torch.Size([3, 3, 1])\n",
            "x0 =  tensor([[[1, 2, 3],\n",
            "         [4, 5, 6],\n",
            "         [7, 8, 9]]])\n",
            "x1 =  tensor([[[1, 2, 3]],\n",
            "\n",
            "        [[4, 5, 6]],\n",
            "\n",
            "        [[7, 8, 9]]])\n",
            "x2 =  tensor([[[1],\n",
            "         [2],\n",
            "         [3]],\n",
            "\n",
            "        [[4],\n",
            "         [5],\n",
            "         [6]],\n",
            "\n",
            "        [[7],\n",
            "         [8],\n",
            "         [9]]])\n"
          ]
        }
      ],
      "source": [
        "x0 = torch.unsqueeze(x, 0) # 모양 변경, x에 0번째 차원 추가\n",
        "x1 = torch.unsqueeze(x, 1)\n",
        "x2 = torch.unsqueeze(x, 2)\n",
        "print(\"x0.shape : \", x0.shape)\n",
        "print(\"x1.shape : \", x1.shape)\n",
        "print(\"x2.shape : \", x2.shape)\n",
        "print(\"x0 = \", x0)\n",
        "print(\"x1 = \", x1)\n",
        "print(\"x2 = \", x2)"
      ]
    },
    {
      "cell_type": "code",
      "execution_count": null,
      "metadata": {
        "colab": {
          "base_uri": "https://localhost:8080/"
        },
        "id": "ee56jjiG-rkp",
        "outputId": "7d73ac58-dec5-4869-9d25-5a434e0136d8"
      },
      "outputs": [
        {
          "name": "stdout",
          "output_type": "stream",
          "text": [
            "x3 = tensor([[1, 2, 3],\n",
            "        [4, 5, 6],\n",
            "        [7, 8, 9]])\n",
            "x3.shape = torch.Size([3, 3])\n"
          ]
        }
      ],
      "source": [
        "x3 = torch.squeeze(torch.squeeze(x0)) # squeeze(x): 텐서 x에서 크기가 1인 차원 제거\n",
        "print(\"x3 =\", x3)\n",
        "print(\"x3.shape =\", x3.shape)"
      ]
    },
    {
      "cell_type": "code",
      "execution_count": null,
      "metadata": {
        "colab": {
          "base_uri": "https://localhost:8080/"
        },
        "id": "oxrVu2-G_MAP",
        "outputId": "54cc6c7c-2d88-431d-cd26-7a0da47df0e0"
      },
      "outputs": [
        {
          "name": "stdout",
          "output_type": "stream",
          "text": [
            "x4 = tensor([1, 2, 3, 4, 5, 6, 7, 8, 9])\n",
            "x5   tensor([[[1, 2, 3],\n",
            "         [4, 5, 6],\n",
            "         [7, 8, 9]]])\n"
          ]
        }
      ],
      "source": [
        "x4 = x.view(9) # 텐서 모양 변경 view(x) : x의 모양으로 변환\n",
        "x5 = x.view(1,3,3)\n",
        "print(\"x4 =\", x4)\n",
        "print(\"x5  \", x5)"
      ]
    },
    {
      "cell_type": "code",
      "execution_count": null,
      "metadata": {
        "colab": {
          "base_uri": "https://localhost:8080/"
        },
        "id": "dFA0bSBmW5SD",
        "outputId": "103c1b0e-0143-4b15-8815-bc2760384d96"
      },
      "outputs": [
        {
          "name": "stdout",
          "output_type": "stream",
          "text": [
            "tensor([[ 0.3151],\n",
            "        [-1.6899],\n",
            "        [-1.8695]])\n"
          ]
        }
      ],
      "source": [
        "x = torch.FloatTensor([[1,2], [3,4], [5,6]]) # xw + b size = 3,2\n",
        "w = torch.randn(1,2, dtype=torch.float) # 텐서 크기 설정\n",
        "b = torch.randn(3,1, dtype=torch.float)\n",
        "\n",
        "result = torch.mm(x, torch.t(w)) + b\n",
        "print(result)"
      ]
    },
    {
      "cell_type": "code",
      "execution_count": null,
      "metadata": {
        "colab": {
          "base_uri": "https://localhost:8080/"
        },
        "id": "sLopBGvEYhO_",
        "outputId": "dde906cf-358a-4224-f120-cba91eea959f"
      },
      "outputs": [
        {
          "name": "stdout",
          "output_type": "stream",
          "text": [
            "l을 w로 미분한 값 tensor(18.)\n"
          ]
        }
      ],
      "source": [
        "w = torch.tensor(1.0, requires_grad=True) # w가 1일때\n",
        "# 기울기 requires_grad값이 설정된 텐서는 자동으로 기울기를 계산함\n",
        "a = w*3\n",
        "l = a**2\n",
        "l.backward()\n",
        "print('l을 w로 미분한 값', w.grad)"
      ]
    }
  ],
  "metadata": {
    "colab": {
      "provenance": []
    },
    "kernelspec": {
      "display_name": "Python 3",
      "name": "python3"
    },
    "language_info": {
      "codemirror_mode": {
        "name": "ipython",
        "version": 3
      },
      "file_extension": ".py",
      "mimetype": "text/x-python",
      "name": "python",
      "nbconvert_exporter": "python",
      "pygments_lexer": "ipython3",
      "version": "3.11.5"
    }
  },
  "nbformat": 4,
  "nbformat_minor": 0
}
