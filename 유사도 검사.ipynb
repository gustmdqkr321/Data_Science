{
  "nbformat": 4,
  "nbformat_minor": 0,
  "metadata": {
    "colab": {
      "provenance": []
    },
    "kernelspec": {
      "name": "python3",
      "display_name": "Python 3"
    },
    "language_info": {
      "name": "python"
    }
  },
  "cells": [
    {
      "cell_type": "code",
      "execution_count": null,
      "metadata": {
        "id": "ItoB5F4LtVJH"
      },
      "outputs": [],
      "source": [
        "import pandas as pd\n",
        "import torch\n",
        "import pickle\n",
        "import matplotlib.pyplot as plt\n",
        "data = pickle.load(open('/content/drive/MyDrive/docs.pkl',\"rb\"))"
      ]
    },
    {
      "cell_type": "code",
      "source": [
        "documents = data['train']\n",
        "documents[0]['category']"
      ],
      "metadata": {
        "colab": {
          "base_uri": "https://localhost:8080/",
          "height": 36
        },
        "id": "PMzYhlKb5Q5U",
        "outputId": "86a61920-6985-4c7e-bc40-31982ed4b698"
      },
      "execution_count": null,
      "outputs": [
        {
          "output_type": "execute_result",
          "data": {
            "text/plain": [
              "'technologie'"
            ],
            "application/vnd.google.colaboratory.intrinsic+json": {
              "type": "string"
            }
          },
          "metadata": {},
          "execution_count": 53
        }
      ]
    },
    {
      "cell_type": "code",
      "source": [
        "# 12번 문서의 원문과 단어 등장 횟수 데이터 추출\n",
        "document_info = data['train'][12]\n",
        "\n",
        "# 단어 등장 횟수 데이터 (사전 형식) 추출\n",
        "word_count = document_info['words']\n",
        "\n",
        "# 가장 많이 등장한 단어 5개 찾기\n",
        "top_words = sorted(word_count.items(), key=lambda x: x[1], reverse=True)[:5]\n",
        "\n",
        "# 결과 출력\n",
        "print(\"가장 많이 등장한 단어 5개:\")\n",
        "for word, count in top_words:\n",
        "    print(f\"{word}: {count}\")\n",
        "\n",
        "# document_info"
      ],
      "metadata": {
        "colab": {
          "base_uri": "https://localhost:8080/"
        },
        "id": "SivZdrskzbCF",
        "outputId": "eec82d76-9fe5-4574-aea2-e8223427a65e"
      },
      "execution_count": null,
      "outputs": [
        {
          "output_type": "stream",
          "name": "stdout",
          "text": [
            "가장 많이 등장한 단어 5개:\n",
            "the: 22\n",
            "in: 14\n",
            "to: 13\n",
            "a: 12\n",
            "conte: 11\n"
          ]
        }
      ]
    },
    {
      "cell_type": "code",
      "source": [
        "from sklearn.metrics import jaccard_score\n",
        "import numpy as np\n",
        "\n",
        "# 31번 문서와 다른 모든 문서의 Jaccard 유사도 계산\n",
        "jaccard_scores = []\n",
        "document_31 = set(data['train'][31]['words'])\n",
        "\n",
        "for i, document in enumerate(data['train']):\n",
        "    if i != 31:  # 31번 문서와 자기 자신은 비교하지 않음\n",
        "        document_i = set(document['words'])\n",
        "        jaccard_similarity = len(document_31.intersection(document_i)) / len(document_31.union(document_i))\n",
        "        jaccard_scores.append((i, jaccard_similarity))\n",
        "\n",
        "# Jaccard 유사도가 높은 상위 5개 문서 찾기\n",
        "top_similar_documents = sorted(jaccard_scores, key=lambda x: x[1], reverse=True)[:5]\n",
        "\n",
        "# 결과 출력\n",
        "print(f\"31번 문서와 가장 유사한 문서 5개:\")\n",
        "for i, similarity in top_similar_documents:\n",
        "    print(f\"문서 {i}: Jaccard 유사도 = {similarity:.2f}\")\n"
      ],
      "metadata": {
        "colab": {
          "base_uri": "https://localhost:8080/"
        },
        "id": "pAF9Tp234Zpr",
        "outputId": "e0ecb09f-0d41-42f0-a1fe-d43ce9a58cce"
      },
      "execution_count": null,
      "outputs": [
        {
          "output_type": "stream",
          "name": "stdout",
          "text": [
            "31번 문서와 가장 유사한 문서 5개:\n",
            "문서 182: Jaccard 유사도 = 1.00\n",
            "문서 323: Jaccard 유사도 = 0.20\n",
            "문서 659: Jaccard 유사도 = 0.18\n",
            "문서 749: Jaccard 유사도 = 0.18\n",
            "문서 742: Jaccard 유사도 = 0.18\n"
          ]
        }
      ]
    },
    {
      "cell_type": "code",
      "source": [
        "data['train'][12]"
      ],
      "metadata": {
        "id": "vJVlypTwIDCj"
      },
      "execution_count": null,
      "outputs": []
    },
    {
      "cell_type": "code",
      "source": [
        "# 가장 유사한 문서들의 인덱스\n",
        "similar_document_indices = [i for i, _ in top_similar_documents]\n",
        "\n",
        "# 각 유사한 문서의 카테고리 가져오기\n",
        "similar_document_categories = [documents[i]['category'] for i in similar_document_indices]\n",
        "\n",
        "# 결과 출력\n",
        "print(f\"유사한 5개 문서의 카테고리:\")\n",
        "for i, category in enumerate(similar_document_categories):\n",
        "    print(f\"유사한 문서 {i + 1}의 카테고리: {category}\")\n"
      ],
      "metadata": {
        "colab": {
          "base_uri": "https://localhost:8080/"
        },
        "id": "F6W3VAzF524H",
        "outputId": "2769511b-cb1a-4468-9fe1-cd8b08ba4fe7"
      },
      "execution_count": null,
      "outputs": [
        {
          "output_type": "stream",
          "name": "stdout",
          "text": [
            "유사한 5개 문서의 카테고리:\n",
            "유사한 문서 1의 카테고리: technologie\n",
            "유사한 문서 2의 카테고리: technologie\n",
            "유사한 문서 3의 카테고리: technologie\n",
            "유사한 문서 4의 카테고리: technologie\n",
            "유사한 문서 5의 카테고리: politics\n"
          ]
        }
      ]
    },
    {
      "cell_type": "code",
      "source": [
        "print(documents[182]['category'],\n",
        "documents[323]['category'],\n",
        "documents[659]['category'],\n",
        "documents[749]['category'],\n",
        "documents[742]['category'])"
      ],
      "metadata": {
        "colab": {
          "base_uri": "https://localhost:8080/"
        },
        "id": "E5vApix-6we0",
        "outputId": "801803be-5c26-4677-b368-3d5cad40e9b2"
      },
      "execution_count": null,
      "outputs": [
        {
          "output_type": "stream",
          "name": "stdout",
          "text": [
            "technologie technologie technologie technologie politics\n"
          ]
        }
      ]
    },
    {
      "cell_type": "code",
      "source": [
        "from collections import defaultdict\n",
        "from sklearn.metrics import jaccard_score\n",
        "\n",
        "# 각 단어와 그 단어가 포함된 문서들의 집합을 저장하는 사전 생성\n",
        "word_document_sets = defaultdict(set)\n",
        "\n",
        "# 모든 단어와 해당 단어를 포함하는 문서 인덱스 집합 생성\n",
        "for i, document in enumerate(data['train']):\n",
        "    words = document['words']\n",
        "    for word in words:\n",
        "        word_document_sets[word].add(i)\n",
        "\n",
        "# \"game\"과 다른 단어들 간의 Jaccard 유사도 계산\n",
        "target_word = \"game\"\n",
        "similarities = {}\n",
        "for word in word_document_sets.keys():\n",
        "    if word != target_word:\n",
        "        intersection = len(word_document_sets[target_word].intersection(word_document_sets[word]))\n",
        "        union = len(word_document_sets[target_word].union(word_document_sets[word]))\n",
        "        jaccard_similarity = intersection / union\n",
        "        similarities[word] = jaccard_similarity\n",
        "\n",
        "# Jaccard 유사도가 가장 높은 단어 5개 찾기\n",
        "top_similar_words = sorted(similarities.items(), key=lambda x: x[1], reverse=True)[:20]\n",
        "\n",
        "# 결과 출력\n",
        "print(f\"'game'과 Jaccard 유사도가 가장 높은 단어 5개:\")\n",
        "for word, similarity in top_similar_words:\n",
        "    print(f\"{word}: Jaccard 유사도 = {similarity:.5f}\")\n"
      ],
      "metadata": {
        "colab": {
          "base_uri": "https://localhost:8080/"
        },
        "id": "lud34WJ47if7",
        "outputId": "7ca595e7-56f8-403c-a778-d2cdc1181a1f"
      },
      "execution_count": null,
      "outputs": [
        {
          "output_type": "stream",
          "name": "stdout",
          "text": [
            "'game'과 Jaccard 유사도가 가장 높은 단어 5개:\n",
            "gaming: Jaccard 유사도 = 0.20000\n",
            "nintendo: Jaccard 유사도 = 0.18182\n",
            "sony: Jaccard 유사도 = 0.17857\n",
            "video: Jaccard 유사도 = 0.17647\n",
            "sonys: Jaccard 유사도 = 0.17391\n",
            "games: Jaccard 유사도 = 0.16667\n",
            "ball: Jaccard 유사도 = 0.16000\n",
            "runners: Jaccard 유사도 = 0.14286\n",
            "perspective: Jaccard 유사도 = 0.13793\n",
            "features: Jaccard 유사도 = 0.13636\n",
            "preserve: Jaccard 유사도 = 0.13636\n",
            "consoles: Jaccard 유사도 = 0.13636\n",
            "titles: Jaccard 유사도 = 0.13333\n",
            "option: Jaccard 유사도 = 0.12903\n",
            "kit: Jaccard 유사도 = 0.12500\n",
            "includes: Jaccard 유사도 = 0.11628\n",
            "tasks: Jaccard 유사도 = 0.11538\n",
            "corner: Jaccard 유사도 = 0.11538\n",
            "playing: Jaccard 유사도 = 0.11429\n",
            "preparation: Jaccard 유사도 = 0.11111\n"
          ]
        }
      ]
    },
    {
      "cell_type": "code",
      "source": [
        "import math\n",
        "\n",
        "# 31번 문서 추출\n",
        "document_31 = data['train'][31]\n",
        "\n",
        "# TFIDF 점수를 저장할 딕셔너리 생성\n",
        "tfidf_scores = {}\n",
        "\n",
        "# IDF 계산\n",
        "total_documents = len(data['train'])\n",
        "for word, tf in document_31['words'].items():\n",
        "    # 단어 t를 포함하는 문서 수 계산\n",
        "    documents_containing_word = sum(1 for document in data['train'] if word in document['words'])\n",
        "\n",
        "    # IDF 계산\n",
        "    idf = math.log(total_documents / (documents_containing_word + 1))  # +1은 분모가 0이 되지 않도록 하기 위함\n",
        "\n",
        "    # TFIDF 계산\n",
        "    tfidf = tf * idf\n",
        "    tfidf_scores[word] = tfidf\n",
        "\n",
        "# TFIDF 점수가 가장 높은 단어 5개 찾기\n",
        "top_tfidf_words = sorted(tfidf_scores.items(), key=lambda x: x[1], reverse=True)[:5]\n",
        "\n",
        "# 결과 출력\n",
        "print(f\"31번 문서에서 TFIDF 점수가 가장 높은 단어 5개:\")\n",
        "for word, tfidf in top_tfidf_words:\n",
        "    print(f\"{word}: TFIDF = {tfidf:.4f}\")\n"
      ],
      "metadata": {
        "colab": {
          "base_uri": "https://localhost:8080/"
        },
        "id": "Y7tDAtKx8SrI",
        "outputId": "74bb4830-5239-47e4-c6b1-65b7546abec1"
      },
      "execution_count": null,
      "outputs": [
        {
          "output_type": "stream",
          "name": "stdout",
          "text": [
            "31번 문서에서 TFIDF 점수가 가장 높은 단어 5개:\n",
            "laptops: TFIDF = 31.1577\n",
            "negroponte: TFIDF = 28.5189\n",
            "laptop: TFIDF = 25.9648\n",
            "child: TFIDF = 16.9498\n",
            "digital: TFIDF = 11.5615\n"
          ]
        }
      ]
    },
    {
      "cell_type": "code",
      "source": [
        "from sklearn.metrics.pairwise import cosine_similarity\n",
        "import numpy as np\n",
        "\n",
        "# 31번 문서의 임베딩 벡터 추출\n",
        "document_31_embedding = np.array(data['train'][31]['embedding']).reshape(1, -1)\n",
        "\n",
        "# 다른 모든 문서의 임베딩 벡터 추출 및 인덱스 저장\n",
        "similar_documents_with_indices = []\n",
        "\n",
        "for i, document in enumerate(data['train']):\n",
        "    if i != 31:  # 31번 문서와 자기 자신은 비교하지 않음\n",
        "        document_i_embedding = np.array(document['embedding']).reshape(1, -1)\n",
        "        similarity_score = cosine_similarity(document_31_embedding, document_i_embedding)[0][0]\n",
        "        similar_documents_with_indices.append((i, similarity_score))\n",
        "\n",
        "# 유사도가 높은 상위 5개 문서 찾기\n",
        "top_similar_documents = sorted(similar_documents_with_indices, key=lambda x: x[1], reverse=True)[:5]\n",
        "\n",
        "# 결과 출력\n",
        "print(f\"31번 문서와 가장 유사한 문서 5개:\")\n",
        "for i, similarity in top_similar_documents:\n",
        "    print(f\"문서 {i}: Cosine 유사도 = {similarity:.4f}\")\n"
      ],
      "metadata": {
        "colab": {
          "base_uri": "https://localhost:8080/"
        },
        "id": "hstr9i7C9OKz",
        "outputId": "f565a814-d050-4acf-ad13-0f327998ecf8"
      },
      "execution_count": null,
      "outputs": [
        {
          "output_type": "stream",
          "name": "stdout",
          "text": [
            "31번 문서와 가장 유사한 문서 5개:\n",
            "문서 182: Cosine 유사도 = 0.9998\n",
            "문서 749: Cosine 유사도 = 0.7467\n",
            "문서 72: Cosine 유사도 = 0.6970\n",
            "문서 66: Cosine 유사도 = 0.6534\n",
            "문서 302: Cosine 유사도 = 0.6500\n"
          ]
        }
      ]
    },
    {
      "cell_type": "code",
      "source": [
        "# 가장 유사한 문서들의 인덱스\n",
        "similar_document_indices = [i for i, _ in top_similar_documents]\n",
        "\n",
        "# 각 유사한 문서의 카테고리 가져오기\n",
        "similar_document_categories = [documents[i]['category'] for i in similar_document_indices]\n",
        "\n",
        "# 결과 출력\n",
        "print(f\"유사한 5개 문서의 카테고리:\")\n",
        "for i, similarity in top_similar_documents:\n",
        "    print(f\"문서 {i}: 의 카테고리: {category}\")\n",
        "\n",
        "print(data['train'][31]['category'])"
      ],
      "metadata": {
        "colab": {
          "base_uri": "https://localhost:8080/"
        },
        "id": "3C4kzu58-EEe",
        "outputId": "012be2ae-8955-4783-dd7a-b9188f09a199"
      },
      "execution_count": null,
      "outputs": [
        {
          "output_type": "stream",
          "name": "stdout",
          "text": [
            "유사한 5개 문서의 카테고리:\n",
            "문서 182: 의 카테고리: technologie\n",
            "문서 323: 의 카테고리: technologie\n",
            "문서 659: 의 카테고리: technologie\n",
            "문서 749: 의 카테고리: technologie\n",
            "문서 742: 의 카테고리: technologie\n",
            "technologie\n"
          ]
        }
      ]
    },
    {
      "cell_type": "code",
      "source": [
        "from sklearn.metrics import jaccard_score\n",
        "from sklearn.metrics.pairwise import cosine_similarity\n",
        "import numpy as np\n",
        "from scipy.stats import pearsonr\n",
        "\n",
        "# 31번 문서의 단어 집합 추출\n",
        "document_31_words = set(data['train'][31]['words'])\n",
        "\n",
        "# Jaccard 유사도와 Cosine 유사도를 저장할 리스트 초기화\n",
        "jaccard_similarities = []\n",
        "cosine_similarities = []\n",
        "\n",
        "for i, document in enumerate(data['train']):\n",
        "    if i != 31:  # 31번 문서와 자기 자신은 비교하지 않음\n",
        "        # 다른 문서의 단어 집합 추출\n",
        "        document_i_words = set(document['words'])\n",
        "\n",
        "        # Jaccard 유사도 계산\n",
        "        jaccard_similarity = len(document_31_words.intersection(document_i_words)) / len(document_31_words.union(document_i_words))\n",
        "        jaccard_similarities.append(jaccard_similarity)\n",
        "\n",
        "        # Cosine 유사도 계산\n",
        "        document_31_embedding = np.array(data['train'][31]['embedding']).reshape(1, -1)\n",
        "        document_i_embedding = np.array(document['embedding']).reshape(1, -1)\n",
        "        cosine_similarity_value = cosine_similarity(document_31_embedding, document_i_embedding)[0][0]\n",
        "        cosine_similarities.append(cosine_similarity_value)\n",
        "\n",
        "# Jaccard 유사도와 Cosine 유사도 사이의 상관 계수 계산\n",
        "correlation_coefficient = pearsonr(jaccard_similarities, cosine_similarities)\n",
        "\n",
        "# 결과 출력\n",
        "print(f\"Jaccard 유사도와 Cosine 유사도의 상관 계수: {correlation_coefficient[0]:.8f}\")\n"
      ],
      "metadata": {
        "colab": {
          "base_uri": "https://localhost:8080/"
        },
        "id": "G-JnJjBB-vu3",
        "outputId": "475dd90e-f6a9-41ec-a452-af6508f2355a"
      },
      "execution_count": null,
      "outputs": [
        {
          "output_type": "stream",
          "name": "stdout",
          "text": [
            "Jaccard 유사도와 Cosine 유사도의 상관 계수: 0.55463512\n"
          ]
        }
      ]
    },
    {
      "cell_type": "code",
      "source": [
        "from sklearn.linear_model import LogisticRegression\n",
        "from sklearn.preprocessing import StandardScaler\n",
        "\n",
        "# 데이터 준비\n",
        "X_train = [document['embedding'] for document in data['train']]\n",
        "y_train = [document['category'] for document in data['train']]\n",
        "X_test = [document['embedding'] for document in data['test']]\n",
        "\n",
        "# 표준화 (Standardization) - 필요에 따라 스케일링을 수행할 수 있습니다.\n",
        "scaler = StandardScaler()\n",
        "X_train = scaler.fit_transform(X_train)\n",
        "X_test = scaler.transform(X_test)\n",
        "\n",
        "# 모델 초기화\n",
        "model = LogisticRegression(multi_class='multinomial', solver='lbfgs')\n",
        "\n",
        "# 모델 학습\n",
        "model.fit(X_train, y_train)\n",
        "\n",
        "# 테스트 데이터 예측\n",
        "predicted_labels = model.predict(X_test)\n",
        "\n",
        "# 예측 결과 출력\n",
        "for i, label in enumerate(predicted_labels):\n",
        "    print(f\"문서 {i}의 예측된 레이블: {label}\")\n"
      ],
      "metadata": {
        "colab": {
          "base_uri": "https://localhost:8080/"
        },
        "id": "3Dd25Ygs_oxb",
        "outputId": "dc0d5608-2f47-4973-8aba-539325bbe018"
      },
      "execution_count": null,
      "outputs": [
        {
          "output_type": "stream",
          "name": "stdout",
          "text": [
            "문서 0의 예측된 레이블: food\n",
            "문서 1의 예측된 레이블: business\n",
            "문서 2의 예측된 레이블: historical\n",
            "문서 3의 예측된 레이블: medical\n",
            "문서 4의 예측된 레이블: entertainment\n",
            "문서 5의 예측된 레이블: sport\n",
            "문서 6의 예측된 레이블: entertainment\n",
            "문서 7의 예측된 레이블: historical\n",
            "문서 8의 예측된 레이블: technologie\n",
            "문서 9의 예측된 레이블: politics\n"
          ]
        }
      ]
    }
  ]
}