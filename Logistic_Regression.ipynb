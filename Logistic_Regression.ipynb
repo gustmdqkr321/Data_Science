{
  "nbformat": 4,
  "nbformat_minor": 0,
  "metadata": {
    "colab": {
      "provenance": []
    },
    "kernelspec": {
      "name": "python3",
      "display_name": "Python 3"
    },
    "language_info": {
      "name": "python"
    }
  },
  "cells": [
    {
      "cell_type": "code",
      "execution_count": 49,
      "metadata": {
        "id": "T0-gNwCwqXU0"
      },
      "outputs": [],
      "source": [
        "import torch\n",
        "x_train = torch.FloatTensor([[1],[2],[3],[4],[5],[2.5],[3.5],[0],[3.1],[2.7],[2.8],[2.9]])\n",
        "y_train = torch.FloatTensor([[1],[1],[1],[0],[0],[0],[0],[1],[0],[1],[1],[1]])"
      ]
    },
    {
      "cell_type": "code",
      "source": [
        "W = torch.zeros(1,1) # w,b를 0으로 초기화\n",
        "b = torch.zeros(1,1)\n",
        "lr = 1.0"
      ],
      "metadata": {
        "id": "M8j7rpaErEyN"
      },
      "execution_count": 50,
      "outputs": []
    },
    {
      "cell_type": "code",
      "source": [
        "for epoch in range(3001):\n",
        "  W.requires_grad_(True)\n",
        "  b.requires_grad_(True)\n",
        "  hypothesis = torch.sigmoid(torch.mm(x_train, W) + b) # 선형 회귀와 다른 부분\n",
        "  # 1차 직선 대신 시그모이드 함수를 사용\n",
        "  cost = torch.mean(-y_train * torch.log(hypothesis)\n",
        " -(1 - y_train) * torch.log(1 - hypothesis))\n",
        "  cost.backward()\n",
        "  with torch.no_grad() as grd:\n",
        "    W = W - lr * W.grad\n",
        "    b = b - lr * b.grad\n",
        "  if epoch % 100 == 0:\n",
        "    print( 'epoch: {}, cost: {:.6f}, W: {:.6f}, b: {:.6f}'.format(\n",
        "    epoch, cost.item(), W.squeeze(), b.squeeze()))"
      ],
      "metadata": {
        "colab": {
          "base_uri": "https://localhost:8080/"
        },
        "id": "UFe25bx1rObw",
        "outputId": "62728cbb-9f46-4677-99c5-cf8ea3d60edc"
      },
      "execution_count": 51,
      "outputs": [
        {
          "output_type": "stream",
          "name": "stdout",
          "text": [
            "epoch: 0, cost: 0.693147, W: -0.154167, b: 0.083333\n",
            "epoch: 100, cost: 0.420221, W: -1.451281, b: 4.406925\n",
            "epoch: 200, cost: 0.398721, W: -1.898433, b: 5.773750\n",
            "epoch: 300, cost: 0.390820, W: -2.174322, b: 6.609553\n",
            "epoch: 400, cost: 0.387009, W: -2.367329, b: 7.191599\n",
            "epoch: 500, cost: 0.384924, W: -2.510626, b: 7.622530\n",
            "epoch: 600, cost: 0.383699, W: -2.620779, b: 7.953164\n",
            "epoch: 700, cost: 0.382944, W: -2.707397, b: 8.212804\n",
            "epoch: 800, cost: 0.382463, W: -2.776597, b: 8.420023\n",
            "epoch: 900, cost: 0.382149, W: -2.832521, b: 8.587363\n",
            "epoch: 1000, cost: 0.381941, W: -2.878112, b: 8.723699\n",
            "epoch: 1100, cost: 0.381801, W: -2.915530, b: 8.835541\n",
            "epoch: 1200, cost: 0.381706, W: -2.946401, b: 8.927779\n",
            "epoch: 1300, cost: 0.381641, W: -2.971979, b: 9.004180\n",
            "epoch: 1400, cost: 0.381596, W: -2.993242, b: 9.067673\n",
            "epoch: 1500, cost: 0.381565, W: -3.010968, b: 9.120598\n",
            "epoch: 1600, cost: 0.381543, W: -3.025776, b: 9.164800\n",
            "epoch: 1700, cost: 0.381528, W: -3.038172, b: 9.201797\n",
            "epoch: 1800, cost: 0.381517, W: -3.048561, b: 9.232802\n",
            "epoch: 1900, cost: 0.381509, W: -3.057279, b: 9.258815\n",
            "epoch: 2000, cost: 0.381504, W: -3.064605, b: 9.280675\n",
            "epoch: 2100, cost: 0.381500, W: -3.070765, b: 9.299053\n",
            "epoch: 2200, cost: 0.381497, W: -3.075948, b: 9.314517\n",
            "epoch: 2300, cost: 0.381495, W: -3.080314, b: 9.327539\n",
            "epoch: 2400, cost: 0.381494, W: -3.083991, b: 9.338510\n",
            "epoch: 2500, cost: 0.381493, W: -3.087090, b: 9.347754\n",
            "epoch: 2600, cost: 0.381493, W: -3.089704, b: 9.355551\n",
            "epoch: 2700, cost: 0.381492, W: -3.091908, b: 9.362126\n",
            "epoch: 2800, cost: 0.381492, W: -3.093769, b: 9.367676\n",
            "epoch: 2900, cost: 0.381491, W: -3.095338, b: 9.372355\n",
            "epoch: 3000, cost: 0.381491, W: -3.096662, b: 9.376306\n"
          ]
        }
      ]
    },
    {
      "cell_type": "code",
      "source": [
        "x_test = torch.FloatTensor([[4.5],[1.1]])\n",
        "test_result = torch.sigmoid(torch.mm(x_test, W) + b)\n",
        "print(torch.round(test_result))"
      ],
      "metadata": {
        "colab": {
          "base_uri": "https://localhost:8080/"
        },
        "id": "X4xah32YsIxm",
        "outputId": "ffd39142-4541-4874-8fd4-bc7337b61b7f"
      },
      "execution_count": 52,
      "outputs": [
        {
          "output_type": "stream",
          "name": "stdout",
          "text": [
            "tensor([[0.],\n",
            "        [1.]])\n"
          ]
        }
      ]
    },
    {
      "cell_type": "code",
      "source": [
        "# 옵티마이저는 여러개 구현되어 있음\n",
        "\n",
        "optimizer = torch.optim.SGD([W,b], lr=1.0)\n",
        "# optimizer = torch.optim.SGD([W,b], lr=1.0)\n",
        "# optimizer = torch.optim.Adam([W,b], lr=1.0)\n",
        "# optimizer = torch.optim.Adadelta([W,b])\n",
        "# optimizer = torch.optim.Adagrad([W,b])\n",
        "# optimizer = torch.optim.RMSprop([W,b])"
      ],
      "metadata": {
        "id": "-j9fvHgBsyhx"
      },
      "execution_count": 53,
      "outputs": []
    },
    {
      "cell_type": "code",
      "source": [
        "for epoch in range(3001):\n",
        "  W.requires_grad_(True)\n",
        "  b.requires_grad_(True)\n",
        "  hypothesis = torch.sigmoid(torch.mm(x_train, W) + b)\n",
        "  cost = torch.mean(-y_train * torch.log(hypothesis)\n",
        " -(1 - y_train) * torch.log(1 - hypothesis))\n",
        "  # cost.backward()\n",
        "  # with torch.no_grad() as grd:\n",
        "  #   W = W - lr * W.grad\n",
        "  #   b = b - lr * b.grad\n",
        "  optimizer.zero_grad() # 기존의 직접 구현을 미리 구현된 모듈 사용\n",
        "  cost.backward()\n",
        "  optimizer.step()\n",
        "  if epoch % 100 == 0:\n",
        "    print( 'epoch: {}, cost: {:.6f}, W: {:.6f}, b: {:.6f}'.format(\n",
        "    epoch, cost.item(), W.squeeze(), b.squeeze()))"
      ],
      "metadata": {
        "colab": {
          "base_uri": "https://localhost:8080/"
        },
        "id": "o69bpVxWs331",
        "outputId": "895bcf98-d9e1-47ba-ec27-0340a004bc47"
      },
      "execution_count": 54,
      "outputs": [
        {
          "output_type": "stream",
          "name": "stdout",
          "text": [
            "epoch: 0, cost: 0.381491, W: -3.096674, b: 9.376342\n",
            "epoch: 100, cost: 0.381491, W: -3.097791, b: 9.379672\n",
            "epoch: 200, cost: 0.381491, W: -3.098733, b: 9.382483\n",
            "epoch: 300, cost: 0.381491, W: -3.099529, b: 9.384856\n",
            "epoch: 400, cost: 0.381491, W: -3.100201, b: 9.386860\n",
            "epoch: 500, cost: 0.381491, W: -3.100768, b: 9.388552\n",
            "epoch: 600, cost: 0.381491, W: -3.101247, b: 9.389980\n",
            "epoch: 700, cost: 0.381491, W: -3.101651, b: 9.391188\n",
            "epoch: 800, cost: 0.381491, W: -3.101992, b: 9.392203\n",
            "epoch: 900, cost: 0.381491, W: -3.102282, b: 9.393066\n",
            "epoch: 1000, cost: 0.381491, W: -3.102524, b: 9.393790\n",
            "epoch: 1100, cost: 0.381491, W: -3.102730, b: 9.394404\n",
            "epoch: 1200, cost: 0.381491, W: -3.102904, b: 9.394921\n",
            "epoch: 1300, cost: 0.381491, W: -3.103051, b: 9.395362\n",
            "epoch: 1400, cost: 0.381491, W: -3.103179, b: 9.395742\n",
            "epoch: 1500, cost: 0.381491, W: -3.103278, b: 9.396037\n",
            "epoch: 1600, cost: 0.381491, W: -3.103373, b: 9.396320\n",
            "epoch: 1700, cost: 0.381491, W: -3.103440, b: 9.396523\n",
            "epoch: 1800, cost: 0.381491, W: -3.103504, b: 9.396713\n",
            "epoch: 1900, cost: 0.381491, W: -3.103565, b: 9.396894\n",
            "epoch: 2000, cost: 0.381491, W: -3.103602, b: 9.397006\n",
            "epoch: 2100, cost: 0.381491, W: -3.103634, b: 9.397101\n",
            "epoch: 2200, cost: 0.381491, W: -3.103666, b: 9.397197\n",
            "epoch: 2300, cost: 0.381491, W: -3.103698, b: 9.397292\n",
            "epoch: 2400, cost: 0.381491, W: -3.103730, b: 9.397388\n",
            "epoch: 2500, cost: 0.381491, W: -3.103755, b: 9.397459\n",
            "epoch: 2600, cost: 0.381491, W: -3.103761, b: 9.397478\n",
            "epoch: 2700, cost: 0.381491, W: -3.103761, b: 9.397478\n",
            "epoch: 2800, cost: 0.381491, W: -3.103761, b: 9.397478\n",
            "epoch: 2900, cost: 0.381491, W: -3.103761, b: 9.397478\n",
            "epoch: 3000, cost: 0.381491, W: -3.103761, b: 9.397478\n"
          ]
        }
      ]
    },
    {
      "cell_type": "code",
      "source": [
        "import matplotlib.pyplot as plt\n",
        "W.requires_grad_(False)\n",
        "b.requires_grad_(False)\n",
        "plt.scatter(x_train, y_train, c=\"black\")\n",
        "X = torch.linspace(0,5,100).unsqueeze(1)\n",
        "Y = torch.sigmoid(torch.mm(X,W)+b)\n",
        "plt.plot(X, Y, c=\"#ff0000\")\n",
        "plt.show()"
      ],
      "metadata": {
        "colab": {
          "base_uri": "https://localhost:8080/",
          "height": 430
        },
        "id": "cbWtVq_8tSxN",
        "outputId": "3d786f6c-5e4d-4bc1-eb39-e449a2d4675e"
      },
      "execution_count": 39,
      "outputs": [
        {
          "output_type": "display_data",
          "data": {
            "text/plain": [
              "<Figure size 640x480 with 1 Axes>"
            ],
            "image/png": "[encoded data removed]"
          },
          "metadata": {}
        }
      ]
    },
    {
      "cell_type": "code",
      "source": [
        "from sklearn.linear_model import LogisticRegression\n",
        "x_train = [[1],[2],[3],[4],[5],[2.5],[3.5],[0],[3.1],[2.7],[2.8],[2.9]]\n",
        "y_train = [1,1,1,0,0,0,0,1,0,1,1,1] # 입력 shape이 pytorch에서와 다름\n",
        "model = LogisticRegression(penalty='none')\n",
        "model.fit(x_train, y_train)\n",
        "#W와 b에 해당하는 값 출력\n",
        "print(model.coef_, model.intercept_)\n",
        "# 새로운 x값이 주어질 때 y값 예측\n",
        "x_test = [[4.5],[1.1]]\n",
        "test_result = model.predict(x_test)\n",
        "print(test_result)"
      ],
      "metadata": {
        "colab": {
          "base_uri": "https://localhost:8080/"
        },
        "id": "b8dgd9dMuFHF",
        "outputId": "58ea5c64-0b48-453d-f246-9e1b2e2aab34"
      },
      "execution_count": 42,
      "outputs": [
        {
          "output_type": "stream",
          "name": "stdout",
          "text": [
            "[[-3.10385806]] [9.39776831]\n",
            "[0 1]\n"
          ]
        },
        {
          "output_type": "stream",
          "name": "stderr",
          "text": [
            "/usr/local/lib/python3.10/dist-packages/sklearn/linear_model/_logistic.py:1173: FutureWarning: `penalty='none'`has been deprecated in 1.2 and will be removed in 1.4. To keep the past behaviour, set `penalty=None`.\n",
            "  warnings.warn(\n"
          ]
        }
      ]
    }
  ]
}